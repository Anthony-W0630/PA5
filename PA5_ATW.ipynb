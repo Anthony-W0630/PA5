{
 "cells": [
  {
   "cell_type": "markdown",
   "id": "01fb9c4e",
   "metadata": {},
   "source": [
    "# Programming Assignment 5\n",
    "### Anthony Wayman\n",
    "### Version 1\n",
    "### CS-150\n",
    "### Fall 2023"
   ]
  },
  {
   "cell_type": "markdown",
   "id": "af6f49d9",
   "metadata": {},
   "source": [
    "## Task 1: \n",
    " - Language Translator - write a program that implements a translation dictionary using a\n",
    "    Python dictionary data structure that maps 10 English words to 10 words in another language (e.g.\n",
    "    Spanish, German, Farsi, Arabic,Japanese, etc.). The keysin your dictionary should be in English\n",
    "    (all lower case), and your values should be in your target language (also all lowercase). Your\n",
    "    program should ask for words in English to translate to your target language until the user enters\n",
    "    the number zero (0).All of the code should be contained in one cell in your Jupyter Notebook and hardcode the dictionary (no need to ask the user to fill the dictionary)."
   ]
  },
  {
   "cell_type": "code",
   "execution_count": 46,
   "id": "d763e15d",
   "metadata": {},
   "outputs": [
    {
     "name": "stdout",
     "output_type": "stream",
     "text": [
      "Enter a word in English for the Spanish translation: hello\n",
      "The spanish translation of hello, is hola\n",
      "Would you like to add another entry? (yes/no)yes\n",
      "Enter a word in English for the Spanish translation: mano\n",
      "Sorry, that word is not in the dictionary, please enter another word: \n",
      "Would you like to add another entry? (yes/no)yes\n",
      "Enter a word in English for the Spanish translation: hand\n",
      "The spanish translation of hand, is mano\n",
      "Would you like to add another entry? (yes/no)no\n"
     ]
    }
   ],
   "source": [
    "words={'hello':'hola',\n",
    "       'milk':'leche',\n",
    "       'love':'amor',\n",
    "       'couch':'sofá',\n",
    "       'pencil':'lápiz',\n",
    "       'montain':'montaña',\n",
    "       'car':'auto',\n",
    "       'desk':'escritorio',\n",
    "      'saw':'sierra',\n",
    "      'hand':'mano'}\n",
    "\n",
    "flag=True\n",
    "while flag:\n",
    "    ask=str(input(\"Enter a word in English for the Spanish translation: \"))\n",
    "    if ask in words:\n",
    "        print(f\"The spanish translation of {ask}, is {words[ask]}\")\n",
    "    else:\n",
    "        print(\"Sorry, that word is not in the dictionary, please enter another word: \")\n",
    "    repeat=input(\"Would you like to add another entry? (yes/no)\")\n",
    "    if repeat=='no':\n",
    "        flag=False"
   ]
  },
  {
   "cell_type": "markdown",
   "id": "06cf9cd8",
   "metadata": {},
   "source": [
    "## Task 2: \n",
    " - Temperature converter- Create a dictionary named temp_dict containing the highest temperature in Fahrenheit for each day of September 2023 in Louisville, Kentucky. The keys will be the day of the month, and the values will be the temperature in Fahrenheit. Access each temperature value in Fahrenheit from the dictionary, convert it to Celsius using the formula (temperature - 32) * 5/9, and update the original dictionary with the Celsius value. Take help from the weather app to create a correct dictionary. "
   ]
  },
  {
   "cell_type": "code",
   "execution_count": 6,
   "id": "e8522091",
   "metadata": {},
   "outputs": [
    {
     "name": "stdout",
     "output_type": "stream",
     "text": [
      "The original tempreatures are: {1: 88, 2: 91, 3: 92, 4: 93, 5: 90, 6: 84, 7: 77, 8: 84, 9: 81, 10: 84, 11: 87, 12: 80, 13: 81, 14: 82, 15: 81, 16: 83, 17: 79, 18: 80, 19: 81, 20: 85, 21: 86, 22: 89, 23: 83, 24: 84, 25: 87, 26: 89, 27: 83, 28: 82, 29: 85, 30: 86}\n",
      "\n",
      "The modified tempreatures are: {1: -17, 2: -17, 3: -16, 4: -16, 5: -15, 6: -14, 7: -14, 8: -13, 9: -13, 10: -12, 11: -12, 12: -11, 13: -11, 14: -10, 15: -9, 16: -9, 17: -8, 18: -8, 19: -7, 20: -7, 21: -6, 22: -6, 23: -5, 24: -4, 25: -4, 26: -3, 27: -3, 28: -2, 29: -2, 30: -1}\n"
     ]
    }
   ],
   "source": [
    "temp_dict={1:88,2:91,3:92,4:93,5:90,6:84,7:77,8:84,9:81,10:84,11:87,12:80,13:81,14:82,15:81,16:83,17:79,18:80,19:81,20:85,21:86,22:89,23:83,24:84,25:87,26:89,27:83,28:82,29:85,30:86}\n",
    "print(f\"The original tempreatures are: \\n{temp_dict}\")\n",
    "\n",
    "for i in temp_dict:\n",
    "   # print(f\"on {i}, it was {temp_dict[i]}\")\n",
    "    temp_dict[i]=round((i-32)*(5/9))\n",
    "    \n",
    "print(f\"\\nThe modified tempreatures are: {temp_dict}\")\n"
   ]
  },
  {
   "cell_type": "markdown",
   "id": "443347ac",
   "metadata": {},
   "source": [
    "## Task 3: \n",
    " - Write a Python script to create a dictionary where the keys are numbers between 1 and 15 (both included) and the values are the squares of the keys."
   ]
  },
  {
   "cell_type": "code",
   "execution_count": 19,
   "id": "b499e550",
   "metadata": {},
   "outputs": [
    {
     "name": "stdout",
     "output_type": "stream",
     "text": [
      "The dictionary, {1: 1, 2: 4, 3: 9, 4: 16, 5: 25, 6: 36, 7: 49, 8: 64, 9: 81, 10: 100, 11: 121, 12: 144, 13: 169, 14: 196, 15: 225, 16: 256}\n"
     ]
    }
   ],
   "source": [
    "numbers={}\n",
    "j=0\n",
    "while j<=15:\n",
    "    #print(j)\n",
    "    j=j+1\n",
    "    numbers.update({j:j**2})\n",
    "print(f\"The dictionary, {numbers}\")"
   ]
  },
  {
   "cell_type": "markdown",
   "id": "f70d3f10",
   "metadata": {},
   "source": [
    "## Task4: User Profile Dictionary\n",
    "### Create a Python program that manages user profiles using a dictionary. Follow these steps:\n",
    "A. Create an empty dictionary named user_profiles to store user information.\n",
    "\n",
    "B. Implement a while loop that allows users to input their information. The loop should\n",
    "repeatedly ask the user to enter their name, age, email, and city. Add this information to the\n",
    "user_profiles dictionary.\n",
    "\n",
    "C. Add a break condition to exit the loop.\n",
    "\n",
    "D. Ask the user to input their information and add it to the dictionary. Allow the user to search\n",
    "for a specific user's profile by providing their name. If the user is found, display their profile;\n",
    "otherwise, show a message that the user is not found."
   ]
  },
  {
   "cell_type": "code",
   "execution_count": 59,
   "id": "d272c4db",
   "metadata": {},
   "outputs": [
    {
     "name": "stdout",
     "output_type": "stream",
     "text": [
      "Enter your name: tyler\n",
      "Enter your age: 20\n",
      "Enter your email: abc123@gmail.com\n",
      "Enter your city: NewYork\n",
      "\n",
      "name: tyler, age: 20, email: abc123@gmail.com, city: NewYork\n",
      "\n",
      "would you like to submit the following information? (yes/no): yes\n",
      "\n",
      "would you like to submit another profile? (yes/no): yes\n",
      "Enter your name: Tony\n",
      "Enter your age: 30\n",
      "Enter your email: tony@yahoo.com\n",
      "Enter your city: Georgetown\n",
      "\n",
      "name: Tony, age: 30, email: tony@yahoo.com, city: Georgetown\n",
      "\n",
      "would you like to submit the following information? (yes/no): yes\n",
      "\n",
      "would you like to submit another profile? (yes/no): no\n",
      "Enter a name to search for a profile: Tony\n",
      "Tony's profile, (30, 'tony@yahoo.com', 'Georgetown')\n"
     ]
    }
   ],
   "source": [
    "user_profiles={}\n",
    "\n",
    "flag=True\n",
    "\n",
    "while flag:\n",
    "    name=input(\"Enter your name: \")\n",
    "    age=int(input(\"Enter your age: \"))\n",
    "    email=input(\"Enter your email: \")\n",
    "    city=input(\"Enter your city: \")\n",
    "    print(f\"\\nname: {name}, age: {age}, email: {email}, city: {city}\")\n",
    "    w=input(\"\\nwould you like to submit the following information? (yes/no): \")\n",
    "    if w=='yes':\n",
    "        user_profiles[name]= age, email, city\n",
    "    else:\n",
    "        print(\"Information was not submitted\")\n",
    "    repeat=input(\"\\nwould you like to submit another profile? (yes/no): \")\n",
    "    if repeat=='no':\n",
    "        break\n",
    "\n",
    "\n",
    "search=input(\"Enter a name to search for a profile: \")\n",
    "if search in user_profiles:\n",
    "    print(f\"{search}\\'s profile, {user_profiles[search]}\")\n",
    "else:\n",
    "    print(\"User not found\")\n",
    "\n",
    "\n",
    "# print(user_profiles)\n",
    "    \n",
    "    "
   ]
  }
 ],
 "metadata": {
  "kernelspec": {
   "display_name": "Python 3 (ipykernel)",
   "language": "python",
   "name": "python3"
  },
  "language_info": {
   "codemirror_mode": {
    "name": "ipython",
    "version": 3
   },
   "file_extension": ".py",
   "mimetype": "text/x-python",
   "name": "python",
   "nbconvert_exporter": "python",
   "pygments_lexer": "ipython3",
   "version": "3.11.4"
  }
 },
 "nbformat": 4,
 "nbformat_minor": 5
}
